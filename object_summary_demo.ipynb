{
 "cells": [
  {
   "cell_type": "markdown",
   "id": "295f7c70",
   "metadata": {},
   "source": [
    "# Demo for `ObjectSummary.py`\n",
    "## Import"
   ]
  },
  {
   "cell_type": "code",
   "execution_count": 1,
   "id": "a67a6ec3",
   "metadata": {},
   "outputs": [],
   "source": [
    "from OSGenerator import OSGenerator\n",
    "\n",
    "import json"
   ]
  },
  {
   "cell_type": "markdown",
   "id": "6ee6e1f9",
   "metadata": {},
   "source": [
    "## Building the graph"
   ]
  },
  {
   "cell_type": "code",
   "execution_count": 2,
   "id": "fdb53ed8",
   "metadata": {},
   "outputs": [
    {
     "name": "stderr",
     "output_type": "stream",
     "text": [
      "Building user graph (1/2): 100%|████████████| 1900654/1900654 [00:06<00:00, 283312.87it/s]\n",
      "Building place graph (2/2): 100%|████████████| 6442892/6442892 [01:23<00:00, 77336.56it/s]\n"
     ]
    }
   ],
   "source": [
    "osg = OSGenerator()\n",
    "osg.build(\"data/friends.txt\", \"data/checkins.txt\")"
   ]
  },
  {
   "cell_type": "code",
   "execution_count": 3,
   "id": "73d7f9a0",
   "metadata": {},
   "outputs": [
    {
     "name": "stdout",
     "output_type": "stream",
     "text": [
      "(1000, 1, 'friends_with')\n",
      "(1000, 207, 'friends_with')\n",
      "(1000, 615, 'friends_with')\n",
      "(1000, 1395, 'friends_with')\n",
      "(1000, 4979, 'friends_with')\n",
      "(1000, 43588, 'friends_with')\n",
      "(1000, 2071063, 'checksin_at')\n",
      "(1000, 3340957, 'checksin_at')\n",
      "(1000, 1946746, 'checksin_at')\n",
      "(1000, 3335022, 'checksin_at')\n",
      "(1000, 3333213, 'checksin_at')\n"
     ]
    }
   ],
   "source": [
    "for p in osg.graph.edges(1000, keys=True):\n",
    "    print(p)"
   ]
  },
  {
   "cell_type": "code",
   "execution_count": 4,
   "id": "b2052135",
   "metadata": {},
   "outputs": [
    {
     "data": {
      "text/plain": [
       "[datetime.datetime(2010, 7, 14, 15, 22, 5),\n",
       " datetime.datetime(2010, 7, 13, 9, 46, 22)]"
      ]
     },
     "execution_count": 4,
     "metadata": {},
     "output_type": "execute_result"
    }
   ],
   "source": [
    "osg.graph[1000][1946746][\"checksin_at\"][\"time\"]"
   ]
  },
  {
   "cell_type": "code",
   "execution_count": 5,
   "id": "f4609b6e",
   "metadata": {},
   "outputs": [
    {
     "data": {
      "text/plain": [
       "{'lat': 51.459313, 'lng': 5.3915300833}"
      ]
     },
     "execution_count": 5,
     "metadata": {},
     "output_type": "execute_result"
    }
   ],
   "source": [
    "osg.graph.nodes[1946746]"
   ]
  },
  {
   "cell_type": "markdown",
   "id": "b0c8e9b3",
   "metadata": {},
   "source": [
    "## Find all places visited by user `1000`"
   ]
  },
  {
   "cell_type": "code",
   "execution_count": 6,
   "id": "265cf17a",
   "metadata": {},
   "outputs": [
    {
     "data": {
      "text/plain": [
       "[170409, 1440303, 46092, 1434368, 1432559]"
      ]
     },
     "execution_count": 6,
     "metadata": {},
     "output_type": "execute_result"
    }
   ],
   "source": [
    "[x - 1900654 for x in osg.get_checkins(1000)]"
   ]
  },
  {
   "cell_type": "markdown",
   "id": "f93f9b16",
   "metadata": {},
   "source": [
    "## When did `1000` visited `46092` (or `1946746`)\n",
    "All `place_id`s are shifted by `1900654`"
   ]
  },
  {
   "cell_type": "code",
   "execution_count": 7,
   "id": "be9bbaa7",
   "metadata": {},
   "outputs": [
    {
     "data": {
      "text/plain": [
       "[datetime.datetime(2010, 7, 14, 15, 22, 5),\n",
       " datetime.datetime(2010, 7, 13, 9, 46, 22)]"
      ]
     },
     "execution_count": 7,
     "metadata": {},
     "output_type": "execute_result"
    }
   ],
   "source": [
    "osg.get_visittime(1000, 1946746)"
   ]
  },
  {
   "cell_type": "markdown",
   "id": "0e7b90da",
   "metadata": {},
   "source": [
    "## Find user `1000`'s friends"
   ]
  },
  {
   "cell_type": "code",
   "execution_count": 8,
   "id": "2a595b6e",
   "metadata": {},
   "outputs": [
    {
     "data": {
      "text/plain": [
       "[1, 207, 615, 1395, 4979, 43588]"
      ]
     },
     "execution_count": 8,
     "metadata": {},
     "output_type": "execute_result"
    }
   ],
   "source": [
    "osg.get_friends(1000)"
   ]
  },
  {
   "cell_type": "markdown",
   "id": "ed6adc53",
   "metadata": {},
   "source": [
    "## Show information about POI `46092` (or `1946746`)\n",
    "This gives information about latitude, longitude, as well as users checked in at this place"
   ]
  },
  {
   "cell_type": "code",
   "execution_count": 9,
   "id": "9124bfd8",
   "metadata": {},
   "outputs": [
    {
     "data": {
      "text/plain": [
       "{'placeid': 1946746, 'lat': 51.459313, 'lng': 5.3915300833}"
      ]
     },
     "execution_count": 9,
     "metadata": {},
     "output_type": "execute_result"
    }
   ],
   "source": [
    "osg.get_placeinfo(1946746)"
   ]
  },
  {
   "cell_type": "markdown",
   "id": "14ce8096",
   "metadata": {},
   "source": [
    "## Find POI `46092`'s (or `1946746`) visitors"
   ]
  },
  {
   "cell_type": "code",
   "execution_count": 10,
   "id": "eb90e7f1",
   "metadata": {},
   "outputs": [
    {
     "data": {
      "text/plain": [
       "[1000,\n",
       " 13014,\n",
       " 16719,\n",
       " 19889,\n",
       " 20790,\n",
       " 27396,\n",
       " 37388,\n",
       " 39541,\n",
       " 45392,\n",
       " 52605,\n",
       " 53224,\n",
       " 63478,\n",
       " 92068,\n",
       " 94765,\n",
       " 97703,\n",
       " 104088,\n",
       " 110422,\n",
       " 112195,\n",
       " 112813,\n",
       " 113101,\n",
       " 120179,\n",
       " 125152,\n",
       " 132368,\n",
       " 132769,\n",
       " 132780,\n",
       " 139658,\n",
       " 142379,\n",
       " 149669,\n",
       " 152586,\n",
       " 153299,\n",
       " 180505]"
      ]
     },
     "execution_count": 10,
     "metadata": {},
     "output_type": "execute_result"
    }
   ],
   "source": [
    "osg.get_visitor(1946746)"
   ]
  },
  {
   "cell_type": "markdown",
   "id": "10afcc35",
   "metadata": {},
   "source": [
    "## Show OS for user `1000`"
   ]
  },
  {
   "cell_type": "code",
   "execution_count": 11,
   "id": "5e09ec8d",
   "metadata": {},
   "outputs": [
    {
     "name": "stdout",
     "output_type": "stream",
     "text": [
      "{\n",
      "    \"user\": 1000,\n",
      "    \"friends\": [\n",
      "        1,\n",
      "        207,\n",
      "        615,\n",
      "        1395,\n",
      "        4979,\n",
      "        43588\n",
      "    ],\n",
      "    \"checksin_at\": [\n",
      "        {\n",
      "            \"placeid\": 2071063,\n",
      "            \"time\": [\n",
      "                \"16-47-2010 14:07:1279284473\"\n",
      "            ],\n",
      "            \"visitors\": [\n",
      "                1000,\n",
      "                13014,\n",
      "                16719,\n",
      "                19889,\n",
      "                20790,\n",
      "                27396,\n",
      "                37388,\n",
      "                39541,\n",
      "                45392,\n",
      "                52605,\n",
      "                53224,\n",
      "                63478,\n",
      "                92068,\n",
      "                94765,\n",
      "                97703,\n",
      "                104088,\n",
      "                110422,\n",
      "                112195,\n",
      "                112813,\n",
      "                113101,\n",
      "                120179,\n",
      "                125152,\n",
      "                132368,\n",
      "                132769,\n",
      "                132780,\n",
      "                139658,\n",
      "                142379,\n",
      "                149669,\n",
      "                152586,\n",
      "                153299,\n",
      "                180505\n",
      "            ],\n",
      "            \"lat\": 52.3651886127,\n",
      "            \"lng\": 4.9365663942\n",
      "        },\n",
      "        {\n",
      "            \"placeid\": 3340957,\n",
      "            \"time\": [\n",
      "                \"14-18-2010 20:07:1279131512\"\n",
      "            ],\n",
      "            \"visitors\": [\n",
      "                1000,\n",
      "                13014,\n",
      "                16719,\n",
      "                19889,\n",
      "                20790,\n",
      "                27396,\n",
      "                37388,\n",
      "                39541,\n",
      "                45392,\n",
      "                52605,\n",
      "                53224,\n",
      "                63478,\n",
      "                92068,\n",
      "                94765,\n",
      "                97703,\n",
      "                104088,\n",
      "                110422,\n",
      "                112195,\n",
      "                112813,\n",
      "                113101,\n",
      "                120179,\n",
      "                125152,\n",
      "                132368,\n",
      "                132769,\n",
      "                132780,\n",
      "                139658,\n",
      "                142379,\n",
      "                149669,\n",
      "                152586,\n",
      "                153299,\n",
      "                180505\n",
      "            ],\n",
      "            \"lat\": 51.4310359955,\n",
      "            \"lng\": 5.4638153315\n",
      "        },\n",
      "        {\n",
      "            \"placeid\": 1946746,\n",
      "            \"time\": [\n",
      "                \"14-22-2010 15:07:1279113725\",\n",
      "                \"13-46-2010 09:07:1279007182\"\n",
      "            ],\n",
      "            \"visitors\": [\n",
      "                1000,\n",
      "                13014,\n",
      "                16719,\n",
      "                19889,\n",
      "                20790,\n",
      "                27396,\n",
      "                37388,\n",
      "                39541,\n",
      "                45392,\n",
      "                52605,\n",
      "                53224,\n",
      "                63478,\n",
      "                92068,\n",
      "                94765,\n",
      "                97703,\n",
      "                104088,\n",
      "                110422,\n",
      "                112195,\n",
      "                112813,\n",
      "                113101,\n",
      "                120179,\n",
      "                125152,\n",
      "                132368,\n",
      "                132769,\n",
      "                132780,\n",
      "                139658,\n",
      "                142379,\n",
      "                149669,\n",
      "                152586,\n",
      "                153299,\n",
      "                180505\n",
      "            ],\n",
      "            \"lat\": 51.459313,\n",
      "            \"lng\": 5.3915300833\n",
      "        },\n",
      "        {\n",
      "            \"placeid\": 3335022,\n",
      "            \"time\": [\n",
      "                \"13-50-2010 16:07:1279032659\"\n",
      "            ],\n",
      "            \"visitors\": [\n",
      "                1000,\n",
      "                13014,\n",
      "                16719,\n",
      "                19889,\n",
      "                20790,\n",
      "                27396,\n",
      "                37388,\n",
      "                39541,\n",
      "                45392,\n",
      "                52605,\n",
      "                53224,\n",
      "                63478,\n",
      "                92068,\n",
      "                94765,\n",
      "                97703,\n",
      "                104088,\n",
      "                110422,\n",
      "                112195,\n",
      "                112813,\n",
      "                113101,\n",
      "                120179,\n",
      "                125152,\n",
      "                132368,\n",
      "                132769,\n",
      "                132780,\n",
      "                139658,\n",
      "                142379,\n",
      "                149669,\n",
      "                152586,\n",
      "                153299,\n",
      "                180505\n",
      "            ],\n",
      "            \"lat\": 51.5574592352,\n",
      "            \"lng\": 5.0901085138\n",
      "        },\n",
      "        {\n",
      "            \"placeid\": 3333213,\n",
      "            \"time\": [\n",
      "                \"13-35-2010 09:07:1279006548\"\n",
      "            ],\n",
      "            \"visitors\": [\n",
      "                1000,\n",
      "                13014,\n",
      "                16719,\n",
      "                19889,\n",
      "                20790,\n",
      "                27396,\n",
      "                37388,\n",
      "                39541,\n",
      "                45392,\n",
      "                52605,\n",
      "                53224,\n",
      "                63478,\n",
      "                92068,\n",
      "                94765,\n",
      "                97703,\n",
      "                104088,\n",
      "                110422,\n",
      "                112195,\n",
      "                112813,\n",
      "                113101,\n",
      "                120179,\n",
      "                125152,\n",
      "                132368,\n",
      "                132769,\n",
      "                132780,\n",
      "                139658,\n",
      "                142379,\n",
      "                149669,\n",
      "                152586,\n",
      "                153299,\n",
      "                180505\n",
      "            ],\n",
      "            \"lat\": 51.4565491676,\n",
      "            \"lng\": 5.3951132298\n",
      "        }\n",
      "    ]\n",
      "}\n"
     ]
    }
   ],
   "source": [
    "os1 = osg.get_object_summary(1000, prettify=True)"
   ]
  },
  {
   "cell_type": "markdown",
   "id": "4c4089ef",
   "metadata": {},
   "source": [
    "## TODO: define objects' weights and similarity function\n",
    "\n",
    "### Candidate objects' weight definition\n",
    "$$o.w_{user = A} = len(o.u|_{u = A})$$\n",
    "\n",
    "### Candidate similarity function definition\n",
    "1. Jaccard Coefficient\n",
    "$$ Sim(o_1, o_2) = \\frac{|o_1.users\\cap o_2.users|}{|o_1.users\\cup o_2.users|}$$"
   ]
  }
 ],
 "metadata": {
  "kernelspec": {
   "display_name": "env_pids3",
   "language": "python",
   "name": "env_pids3"
  },
  "language_info": {
   "codemirror_mode": {
    "name": "ipython",
    "version": 3
   },
   "file_extension": ".py",
   "mimetype": "text/x-python",
   "name": "python",
   "nbconvert_exporter": "python",
   "pygments_lexer": "ipython3",
   "version": "3.10.6"
  }
 },
 "nbformat": 4,
 "nbformat_minor": 5
}
