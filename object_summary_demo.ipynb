{
 "cells": [
  {
   "cell_type": "markdown",
   "id": "295f7c70",
   "metadata": {},
   "source": [
    "# Demo for `ObjectSummary.py`\n",
    "## Import"
   ]
  },
  {
   "cell_type": "code",
   "execution_count": 1,
   "id": "a67a6ec3",
   "metadata": {},
   "outputs": [],
   "source": [
    "from ObjectSummary import ObjectSummary\n",
    "import json"
   ]
  },
  {
   "cell_type": "markdown",
   "id": "6ee6e1f9",
   "metadata": {},
   "source": [
    "## Building the graph"
   ]
  },
  {
   "cell_type": "code",
   "execution_count": 2,
   "id": "fdb53ed8",
   "metadata": {},
   "outputs": [
    {
     "name": "stderr",
     "output_type": "stream",
     "text": [
      "Building graph (1/2): 100%|███████| 1900654/1900654 [00:05<00:00, 347976.17it/s]\n",
      "Adding attributes (2/2): 100%|█████| 6442892/6442892 [01:29<00:00, 71623.17it/s]\n"
     ]
    }
   ],
   "source": [
    "os = ObjectSummary()\n",
    "os.build(\"data/friends.txt\", \"data/checkins.txt\")"
   ]
  },
  {
   "cell_type": "markdown",
   "id": "b0c8e9b3",
   "metadata": {},
   "source": [
    "## Find all places visited by user `1000`"
   ]
  },
  {
   "cell_type": "code",
   "execution_count": 3,
   "id": "265cf17a",
   "metadata": {},
   "outputs": [
    {
     "data": {
      "text/plain": [
       "{'user': 1000,\n",
       " 'checkins': [{'placeid': 170409,\n",
       "   'time': datetime.datetime(2010, 7, 16, 14, 47, 53)},\n",
       "  {'placeid': 1440303, 'time': datetime.datetime(2010, 7, 14, 20, 18, 32)},\n",
       "  {'placeid': 46092, 'time': datetime.datetime(2010, 7, 14, 15, 22, 5)},\n",
       "  {'placeid': 1434368, 'time': datetime.datetime(2010, 7, 13, 16, 50, 59)},\n",
       "  {'placeid': 46092, 'time': datetime.datetime(2010, 7, 13, 9, 46, 22)},\n",
       "  {'placeid': 1432559, 'time': datetime.datetime(2010, 7, 13, 9, 35, 48)}]}"
      ]
     },
     "execution_count": 3,
     "metadata": {},
     "output_type": "execute_result"
    }
   ],
   "source": [
    "os.get_checkins(1000)"
   ]
  },
  {
   "cell_type": "markdown",
   "id": "0e7b90da",
   "metadata": {},
   "source": [
    "## Find user `1000`'s friends"
   ]
  },
  {
   "cell_type": "code",
   "execution_count": 4,
   "id": "2a595b6e",
   "metadata": {},
   "outputs": [
    {
     "data": {
      "text/plain": [
       "{'user': 1000, 'friends': [1, 207, 615, 1395, 4979, 43588]}"
      ]
     },
     "execution_count": 4,
     "metadata": {},
     "output_type": "execute_result"
    }
   ],
   "source": [
    "os.get_friends(1000)"
   ]
  },
  {
   "cell_type": "markdown",
   "id": "ed6adc53",
   "metadata": {},
   "source": [
    "## Show information about POI `697962`\n",
    "This gives information about latitude, longitude, as well as users checked in at this place"
   ]
  },
  {
   "cell_type": "code",
   "execution_count": 5,
   "id": "9124bfd8",
   "metadata": {},
   "outputs": [
    {
     "data": {
      "text/plain": [
       "{'lat': 51.459313,\n",
       " 'lng': 5.3915300833,\n",
       " 'users': [27396,\n",
       "  139658,\n",
       "  152586,\n",
       "  37388,\n",
       "  132368,\n",
       "  104088,\n",
       "  180505,\n",
       "  132769,\n",
       "  92068,\n",
       "  149669,\n",
       "  97703,\n",
       "  142379,\n",
       "  132780,\n",
       "  94765,\n",
       "  112813,\n",
       "  19889,\n",
       "  20790,\n",
       "  112195,\n",
       "  113101,\n",
       "  16719,\n",
       "  45392,\n",
       "  153299,\n",
       "  13014,\n",
       "  110422,\n",
       "  125152,\n",
       "  1000,\n",
       "  53224,\n",
       "  120179,\n",
       "  39541,\n",
       "  63478,\n",
       "  52605],\n",
       " 'placeid': 46092}"
      ]
     },
     "execution_count": 5,
     "metadata": {},
     "output_type": "execute_result"
    }
   ],
   "source": [
    "os.get_place(46092)"
   ]
  },
  {
   "cell_type": "markdown",
   "id": "f669e98a",
   "metadata": {},
   "source": [
    "## Show OS for user `1000`"
   ]
  },
  {
   "cell_type": "code",
   "execution_count": 6,
   "id": "5e09ec8d",
   "metadata": {},
   "outputs": [
    {
     "name": "stdout",
     "output_type": "stream",
     "text": [
      "{\n",
      "  \"user\": 1000,\n",
      "  \"friends\": {\n",
      "    \"user\": 1000,\n",
      "    \"friends\": [\n",
      "      1,\n",
      "      207,\n",
      "      615,\n",
      "      1395,\n",
      "      4979,\n",
      "      43588\n",
      "    ]\n",
      "  },\n",
      "  \"checkedin_at\": [\n",
      "    {\n",
      "      \"placeid\": 170409,\n",
      "      \"time\": \"16-47-2010 14:07:1279284473\",\n",
      "      \"visitors\": [\n",
      "        1000,\n",
      "        103817,\n",
      "        1715\n",
      "      ],\n",
      "      \"lat\": 52.3651886127,\n",
      "      \"lng\": 4.9365663942\n",
      "    },\n",
      "    {\n",
      "      \"placeid\": 1440303,\n",
      "      \"time\": \"14-18-2010 20:07:1279131512\",\n",
      "      \"visitors\": [\n",
      "        1000\n",
      "      ],\n",
      "      \"lat\": 51.4310359955,\n",
      "      \"lng\": 5.4638153315\n",
      "    },\n",
      "    {\n",
      "      \"placeid\": 46092,\n",
      "      \"time\": \"14-22-2010 15:07:1279113725\",\n",
      "      \"visitors\": [\n",
      "        27396,\n",
      "        139658,\n",
      "        152586,\n",
      "        37388,\n",
      "        132368,\n",
      "        104088,\n",
      "        180505,\n",
      "        132769,\n",
      "        92068,\n",
      "        149669,\n",
      "        97703,\n",
      "        142379,\n",
      "        132780,\n",
      "        94765,\n",
      "        112813,\n",
      "        19889,\n",
      "        20790,\n",
      "        112195,\n",
      "        113101,\n",
      "        16719,\n",
      "        45392,\n",
      "        153299,\n",
      "        13014,\n",
      "        110422,\n",
      "        125152,\n",
      "        1000,\n",
      "        53224,\n",
      "        120179,\n",
      "        39541,\n",
      "        63478,\n",
      "        52605\n",
      "      ],\n",
      "      \"lat\": 51.459313,\n",
      "      \"lng\": 5.3915300833\n",
      "    },\n",
      "    {\n",
      "      \"placeid\": 1434368,\n",
      "      \"time\": \"13-50-2010 16:07:1279032659\",\n",
      "      \"visitors\": [\n",
      "        1000,\n",
      "        113101\n",
      "      ],\n",
      "      \"lat\": 51.5574592352,\n",
      "      \"lng\": 5.0901085138\n",
      "    },\n",
      "    {\n",
      "      \"placeid\": 46092,\n",
      "      \"time\": \"13-46-2010 09:07:1279007182\",\n",
      "      \"visitors\": [\n",
      "        27396,\n",
      "        139658,\n",
      "        152586,\n",
      "        37388,\n",
      "        132368,\n",
      "        104088,\n",
      "        180505,\n",
      "        132769,\n",
      "        92068,\n",
      "        149669,\n",
      "        97703,\n",
      "        142379,\n",
      "        132780,\n",
      "        94765,\n",
      "        112813,\n",
      "        19889,\n",
      "        20790,\n",
      "        112195,\n",
      "        113101,\n",
      "        16719,\n",
      "        45392,\n",
      "        153299,\n",
      "        13014,\n",
      "        110422,\n",
      "        125152,\n",
      "        1000,\n",
      "        53224,\n",
      "        120179,\n",
      "        39541,\n",
      "        63478,\n",
      "        52605\n",
      "      ],\n",
      "      \"lat\": 51.459313,\n",
      "      \"lng\": 5.3915300833\n",
      "    },\n",
      "    {\n",
      "      \"placeid\": 1432559,\n",
      "      \"time\": \"13-35-2010 09:07:1279006548\",\n",
      "      \"visitors\": [\n",
      "        1000,\n",
      "        113101\n",
      "      ],\n",
      "      \"lat\": 51.4565491676,\n",
      "      \"lng\": 5.3951132298\n",
      "    }\n",
      "  ]\n",
      "}\n"
     ]
    }
   ],
   "source": [
    "os_1 = os.show(1000)\n",
    "print(json.dumps(os_1, indent=2))  # print(os_1) works too"
   ]
  },
  {
   "cell_type": "code",
   "execution_count": 7,
   "id": "052b5b26",
   "metadata": {},
   "outputs": [
    {
     "name": "stdout",
     "output_type": "stream",
     "text": [
      "{'user': 1000, 'friends': {'user': 1000, 'friends': [1, 207, 615, 1395, 4979, 43588]}, 'checkedin_at': [{'placeid': 170409, 'time': '16-47-2010 14:07:1279284473', 'visitors': [1000, 103817, 1715], 'lat': 52.3651886127, 'lng': 4.9365663942}, {'placeid': 1440303, 'time': '14-18-2010 20:07:1279131512', 'visitors': [1000], 'lat': 51.4310359955, 'lng': 5.4638153315}, {'placeid': 46092, 'time': '14-22-2010 15:07:1279113725', 'visitors': [27396, 139658, 152586, 37388, 132368, 104088, 180505, 132769, 92068, 149669, 97703, 142379, 132780, 94765, 112813, 19889, 20790, 112195, 113101, 16719, 45392, 153299, 13014, 110422, 125152, 1000, 53224, 120179, 39541, 63478, 52605], 'lat': 51.459313, 'lng': 5.3915300833}, {'placeid': 1434368, 'time': '13-50-2010 16:07:1279032659', 'visitors': [1000, 113101], 'lat': 51.5574592352, 'lng': 5.0901085138}, {'placeid': 46092, 'time': '13-46-2010 09:07:1279007182', 'visitors': [27396, 139658, 152586, 37388, 132368, 104088, 180505, 132769, 92068, 149669, 97703, 142379, 132780, 94765, 112813, 19889, 20790, 112195, 113101, 16719, 45392, 153299, 13014, 110422, 125152, 1000, 53224, 120179, 39541, 63478, 52605], 'lat': 51.459313, 'lng': 5.3915300833}, {'placeid': 1432559, 'time': '13-35-2010 09:07:1279006548', 'visitors': [1000, 113101], 'lat': 51.4565491676, 'lng': 5.3951132298}]}\n"
     ]
    }
   ],
   "source": [
    "print(os_1)"
   ]
  },
  {
   "cell_type": "code",
   "execution_count": null,
   "id": "e7e4d111",
   "metadata": {},
   "outputs": [],
   "source": []
  }
 ],
 "metadata": {
  "kernelspec": {
   "display_name": "env_pids3",
   "language": "python",
   "name": "env_pids3"
  },
  "language_info": {
   "codemirror_mode": {
    "name": "ipython",
    "version": 3
   },
   "file_extension": ".py",
   "mimetype": "text/x-python",
   "name": "python",
   "nbconvert_exporter": "python",
   "pygments_lexer": "ipython3",
   "version": "3.10.6"
  }
 },
 "nbformat": 4,
 "nbformat_minor": 5
}
