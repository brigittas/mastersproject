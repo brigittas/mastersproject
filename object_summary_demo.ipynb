{
 "cells": [
  {
   "cell_type": "markdown",
   "id": "295f7c70",
   "metadata": {},
   "source": [
    "# Demo for `ObjectSummary.py`\n",
    "## Import"
   ]
  },
  {
   "cell_type": "code",
   "execution_count": 1,
   "id": "a67a6ec3",
   "metadata": {},
   "outputs": [],
   "source": [
    "from OSGenerator import OSGenerator\n",
    "\n",
    "import json"
   ]
  },
  {
   "cell_type": "markdown",
   "id": "6ee6e1f9",
   "metadata": {},
   "source": [
    "## Building the graph"
   ]
  },
  {
   "cell_type": "code",
   "execution_count": null,
   "id": "fdb53ed8",
   "metadata": {},
   "outputs": [
    {
     "name": "stderr",
     "output_type": "stream",
     "text": [
      "Building user graph (1/2): 100%|████████████| 1900654/1900654 [00:06<00:00, 283312.87it/s]\n",
      "Building place graph (2/2):   1%|▏            | 93667/6442892 [00:00<01:00, 105308.79it/s]"
     ]
    }
   ],
   "source": [
    "osg = OSGenerator()\n",
    "osg.build(\"data/friends.txt\", \"data/checkins.txt\")"
   ]
  },
  {
   "cell_type": "code",
   "execution_count": null,
   "id": "73d7f9a0",
   "metadata": {},
   "outputs": [],
   "source": [
    "for p in osg.graph.edges(1000, keys=True):\n",
    "    print(p)"
   ]
  },
  {
   "cell_type": "code",
   "execution_count": null,
   "id": "b2052135",
   "metadata": {},
   "outputs": [],
   "source": [
    "osg.graph[1000][1946746][\"checksin_at\"][\"time\"]"
   ]
  },
  {
   "cell_type": "code",
   "execution_count": null,
   "id": "f4609b6e",
   "metadata": {},
   "outputs": [],
   "source": [
    "osg.graph.nodes[1946746]"
   ]
  },
  {
   "cell_type": "markdown",
   "id": "b0c8e9b3",
   "metadata": {},
   "source": [
    "## Find all places visited by user `1000`"
   ]
  },
  {
   "cell_type": "code",
   "execution_count": null,
   "id": "265cf17a",
   "metadata": {},
   "outputs": [],
   "source": [
    "[x - 1900654 for x in osg.get_checkins(1000)]"
   ]
  },
  {
   "cell_type": "markdown",
   "id": "f93f9b16",
   "metadata": {},
   "source": [
    "## When did `1000` visited `46092` (or `1946746`)\n",
    "All `place_id`s are shifted by `1900654`"
   ]
  },
  {
   "cell_type": "code",
   "execution_count": null,
   "id": "be9bbaa7",
   "metadata": {},
   "outputs": [],
   "source": [
    "osg.get_visittime(1000, 1946746)"
   ]
  },
  {
   "cell_type": "markdown",
   "id": "0e7b90da",
   "metadata": {},
   "source": [
    "## Find user `1000`'s friends"
   ]
  },
  {
   "cell_type": "code",
   "execution_count": null,
   "id": "2a595b6e",
   "metadata": {},
   "outputs": [],
   "source": [
    "osg.get_friends(1000)"
   ]
  },
  {
   "cell_type": "markdown",
   "id": "ed6adc53",
   "metadata": {},
   "source": [
    "## Show information about POI `46092` (or `1946746`)\n",
    "This gives information about latitude, longitude, as well as users checked in at this place"
   ]
  },
  {
   "cell_type": "code",
   "execution_count": null,
   "id": "9124bfd8",
   "metadata": {},
   "outputs": [],
   "source": [
    "osg.get_placeinfo(1946746)"
   ]
  },
  {
   "cell_type": "markdown",
   "id": "14ce8096",
   "metadata": {},
   "source": [
    "## Find POI `46092`'s (or `1946746`) visitors"
   ]
  },
  {
   "cell_type": "code",
   "execution_count": null,
   "id": "eb90e7f1",
   "metadata": {},
   "outputs": [],
   "source": [
    "osg.get_visitor(1946746)"
   ]
  },
  {
   "cell_type": "markdown",
   "id": "10afcc35",
   "metadata": {},
   "source": [
    "## Show OS for user `1000`"
   ]
  },
  {
   "cell_type": "code",
   "execution_count": null,
   "id": "5e09ec8d",
   "metadata": {},
   "outputs": [],
   "source": [
    "os1 = osg.get_object_summary(1000, prettify=True)"
   ]
  },
  {
   "cell_type": "markdown",
   "id": "4c4089ef",
   "metadata": {},
   "source": [
    "## TODO: define objects' weights and similarity function\n",
    "\n",
    "### Candidate objects' weight definition\n",
    "$$o.w_{user = A} = len(o.u|_{u = A})$$\n",
    "\n",
    "### Candidate similarity function definition\n",
    "1. Jaccard Coefficient\n",
    "$$ Sim(o_1, o_2) = \\frac{|o_1.users\\cap o_2.users|}{|o_1.users\\cup o_2.users|}$$"
   ]
  }
 ],
 "metadata": {
  "kernelspec": {
   "display_name": "env_pids3",
   "language": "python",
   "name": "env_pids3"
  },
  "language_info": {
   "codemirror_mode": {
    "name": "ipython",
    "version": 3
   },
   "file_extension": ".py",
   "mimetype": "text/x-python",
   "name": "python",
   "nbconvert_exporter": "python",
   "pygments_lexer": "ipython3",
   "version": "3.10.6"
  }
 },
 "nbformat": 4,
 "nbformat_minor": 5
}
