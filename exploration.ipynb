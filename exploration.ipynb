{
 "cells": [
  {
   "cell_type": "markdown",
   "id": "db2bda45-64b9-4f49-9df7-a3fe885c7649",
   "metadata": {},
   "source": [
    "# Exploration File"
   ]
  },
  {
   "cell_type": "markdown",
   "id": "bebdf042-d20f-41dc-b55b-e9c53837ba3b",
   "metadata": {},
   "source": [
    "File for exploring the data "
   ]
  },
  {
   "cell_type": "code",
   "execution_count": 1,
   "id": "9650f6c7-a4c3-4bbb-82a4-1194b7db168b",
   "metadata": {},
   "outputs": [],
   "source": [
    "import pandas as pd"
   ]
  },
  {
   "cell_type": "code",
   "execution_count": 4,
   "id": "4adbab2c-2b37-42ac-b2fb-bbf81457ed6d",
   "metadata": {},
   "outputs": [],
   "source": [
    "df = pd.read_csv(\"/Users/brigitta/Project/Checkins.txt\", delimiter = \"\\t\", header=None, \n",
    "                 names=[\"user\", \"checkin_time\", \"latitude\", \"longitude\", \"location_id\"])"
   ]
  },
  {
   "cell_type": "code",
   "execution_count": null,
   "id": "ba850e1b-72b0-424d-8bc3-01d2c66006e6",
   "metadata": {},
   "outputs": [],
   "source": [
    "df = pd.read_csv(\"C:/Users/huawei/OneDrive/Documents/University/project/Checkins.txt\", delimiter = \"\\t\", header=None, \n",
    "                 names=[\"user\", \"checkin_time\", \"latitude\", \"longitude\", \"location_id\"])"
   ]
  },
  {
   "cell_type": "code",
   "execution_count": 5,
   "id": "bbf468c1-8842-449d-a853-7cda0e1d8b5a",
   "metadata": {},
   "outputs": [
    {
     "data": {
      "text/html": [
       "<div>\n",
       "<style scoped>\n",
       "    .dataframe tbody tr th:only-of-type {\n",
       "        vertical-align: middle;\n",
       "    }\n",
       "\n",
       "    .dataframe tbody tr th {\n",
       "        vertical-align: top;\n",
       "    }\n",
       "\n",
       "    .dataframe thead th {\n",
       "        text-align: right;\n",
       "    }\n",
       "</style>\n",
       "<table border=\"1\" class=\"dataframe\">\n",
       "  <thead>\n",
       "    <tr style=\"text-align: right;\">\n",
       "      <th></th>\n",
       "      <th>user</th>\n",
       "      <th>checkin_time</th>\n",
       "      <th>latitude</th>\n",
       "      <th>longitude</th>\n",
       "      <th>location_id</th>\n",
       "    </tr>\n",
       "  </thead>\n",
       "  <tbody>\n",
       "    <tr>\n",
       "      <th>0</th>\n",
       "      <td>0</td>\n",
       "      <td>2010-10-19T23:55:27Z</td>\n",
       "      <td>30.235909</td>\n",
       "      <td>-97.795140</td>\n",
       "      <td>22847</td>\n",
       "    </tr>\n",
       "    <tr>\n",
       "      <th>1</th>\n",
       "      <td>0</td>\n",
       "      <td>2010-10-18T22:17:43Z</td>\n",
       "      <td>30.269103</td>\n",
       "      <td>-97.749395</td>\n",
       "      <td>420315</td>\n",
       "    </tr>\n",
       "    <tr>\n",
       "      <th>2</th>\n",
       "      <td>0</td>\n",
       "      <td>2010-10-17T23:42:03Z</td>\n",
       "      <td>30.255731</td>\n",
       "      <td>-97.763386</td>\n",
       "      <td>316637</td>\n",
       "    </tr>\n",
       "    <tr>\n",
       "      <th>3</th>\n",
       "      <td>0</td>\n",
       "      <td>2010-10-17T19:26:05Z</td>\n",
       "      <td>30.263418</td>\n",
       "      <td>-97.757597</td>\n",
       "      <td>16516</td>\n",
       "    </tr>\n",
       "    <tr>\n",
       "      <th>4</th>\n",
       "      <td>0</td>\n",
       "      <td>2010-10-16T18:50:42Z</td>\n",
       "      <td>30.274292</td>\n",
       "      <td>-97.740523</td>\n",
       "      <td>5535878</td>\n",
       "    </tr>\n",
       "    <tr>\n",
       "      <th>5</th>\n",
       "      <td>0</td>\n",
       "      <td>2010-10-12T23:58:03Z</td>\n",
       "      <td>30.261599</td>\n",
       "      <td>-97.758581</td>\n",
       "      <td>15372</td>\n",
       "    </tr>\n",
       "    <tr>\n",
       "      <th>6</th>\n",
       "      <td>0</td>\n",
       "      <td>2010-10-12T22:02:11Z</td>\n",
       "      <td>30.267910</td>\n",
       "      <td>-97.749312</td>\n",
       "      <td>21714</td>\n",
       "    </tr>\n",
       "    <tr>\n",
       "      <th>7</th>\n",
       "      <td>0</td>\n",
       "      <td>2010-10-12T19:44:40Z</td>\n",
       "      <td>30.269103</td>\n",
       "      <td>-97.749395</td>\n",
       "      <td>420315</td>\n",
       "    </tr>\n",
       "    <tr>\n",
       "      <th>8</th>\n",
       "      <td>0</td>\n",
       "      <td>2010-10-12T15:57:20Z</td>\n",
       "      <td>30.281120</td>\n",
       "      <td>-97.745211</td>\n",
       "      <td>153505</td>\n",
       "    </tr>\n",
       "    <tr>\n",
       "      <th>9</th>\n",
       "      <td>0</td>\n",
       "      <td>2010-10-12T15:19:03Z</td>\n",
       "      <td>30.269103</td>\n",
       "      <td>-97.749395</td>\n",
       "      <td>420315</td>\n",
       "    </tr>\n",
       "  </tbody>\n",
       "</table>\n",
       "</div>"
      ],
      "text/plain": [
       "   user          checkin_time   latitude  longitude  location_id\n",
       "0     0  2010-10-19T23:55:27Z  30.235909 -97.795140        22847\n",
       "1     0  2010-10-18T22:17:43Z  30.269103 -97.749395       420315\n",
       "2     0  2010-10-17T23:42:03Z  30.255731 -97.763386       316637\n",
       "3     0  2010-10-17T19:26:05Z  30.263418 -97.757597        16516\n",
       "4     0  2010-10-16T18:50:42Z  30.274292 -97.740523      5535878\n",
       "5     0  2010-10-12T23:58:03Z  30.261599 -97.758581        15372\n",
       "6     0  2010-10-12T22:02:11Z  30.267910 -97.749312        21714\n",
       "7     0  2010-10-12T19:44:40Z  30.269103 -97.749395       420315\n",
       "8     0  2010-10-12T15:57:20Z  30.281120 -97.745211       153505\n",
       "9     0  2010-10-12T15:19:03Z  30.269103 -97.749395       420315"
      ]
     },
     "execution_count": 5,
     "metadata": {},
     "output_type": "execute_result"
    }
   ],
   "source": [
    "df.head(10)"
   ]
  },
  {
   "cell_type": "code",
   "execution_count": null,
   "id": "16c0b7dd-0341-4a0c-89dc-4a1ec6cd5e55",
   "metadata": {},
   "outputs": [],
   "source": []
  },
  {
   "cell_type": "code",
   "execution_count": null,
   "id": "1540d547-2f60-4f0b-8ccb-691174d5b400",
   "metadata": {},
   "outputs": [],
   "source": []
  },
  {
   "cell_type": "code",
   "execution_count": null,
   "id": "2b91708f-84c2-4938-b97d-b87117ae7799",
   "metadata": {},
   "outputs": [],
   "source": []
  },
  {
   "cell_type": "code",
   "execution_count": null,
   "id": "529018d1-287e-4509-8f3f-b1d8d8cc6358",
   "metadata": {},
   "outputs": [],
   "source": []
  }
 ],
 "metadata": {
  "kernelspec": {
   "display_name": "Python 3 (ipykernel)",
   "language": "python",
   "name": "python3"
  },
  "language_info": {
   "codemirror_mode": {
    "name": "ipython",
    "version": 3
   },
   "file_extension": ".py",
   "mimetype": "text/x-python",
   "name": "python",
   "nbconvert_exporter": "python",
   "pygments_lexer": "ipython3",
   "version": "3.9.7"
  }
 },
 "nbformat": 4,
 "nbformat_minor": 5
}
